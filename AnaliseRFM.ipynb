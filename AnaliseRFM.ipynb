{
 "cells": [
  {
   "cell_type": "markdown",
   "metadata": {
    "id": "r_i455IlHLQ2"
   },
   "source": [
    "# Análise RFM\n"
   ]
  },
  {
   "cell_type": "markdown",
   "metadata": {
    "id": "n5L0JRWxkn3M"
   },
   "source": [
    " RFM Analysis, ou Análise RFM, é uma técnica de análise que é frequentemente utilizada no campo do marketing e da análise de clientes para segmentar e entender o comportamento dos clientes com base em três métricas principais:\n",
    "\n",
    "1.   **<font color=\"#f4a261\">Recência (R):</font>** Isso nos mostra quando um cliente fez sua última compra. Quanto mais recente a interação, mais valioso o cliente pode ser considerado, já que isso pode indicar um maior envolvimento e interesse atual.\n",
    "\n",
    "\n",
    "2.   **<font color=\"#f4a261\">Frequência (F):</font>** Aqui, olhamos para com que frequência um cliente compra.  Clientes que fazem compras com mais frequência podem ser considerados mais valiosos para a empresa.\n",
    "\n",
    "\n",
    "3.   **<font color=\"#f4a261\">Valor Monetário (M):</font>** Isso mostra o quanto um cliente gasta. Clientes que gastam mais dinheiro podem ser considerados mais lucrativos e valiosos para a empresa.\n"
   ]
  },
  {
   "cell_type": "markdown",
   "metadata": {
    "id": "_AMUv7YzmP3j"
   },
   "source": [
    "Ao combinar essas três métricas, é possível criar segmentos de clientes com diferentes perfis:\n",
    "\n",
    "\n",
    "*   **<font color=\"#f4a261\">Clientes Atrativos</font>** (High RFM | RFM Alto): São aqueles que fizeram uma compra recentemente, compram frequentemente e gastam muito dinheiro. Esses clientes são geralmente os mais valiosos.\n",
    "\n",
    "\n",
    "*   **<font color=\"#f4a261\">Clientes em Risco</font>** (Low R | Baixo R, High F | Alto F, High M | Alto M ou High R | Alto R, Low F | Baixo F, High M | Alto M): São aqueles que não fizeram uma compra recentemente, mas costumavam comprar frequentemente e gastavam muito dinheiro. Eles podem estar em risco de deixar de interagir com a empresa.\n",
    "\n",
    "*   **<font color=\"#f4a261\">Clientes Novos</font>** (High R | Alto R, High F | Alto F, Low M | Baixo M): São aqueles que fizeram uma compra recentemente, compram frequentemente, mas gastam relativamente pouco. Eles podem ser novos clientes explorando os produtos ou serviços.\n",
    "\n",
    "*   **<font color=\"#f4a261\">Clientes Inativos</font>** (Low RFM | Baixo RFM): São aqueles que não fizeram uma compra recentemente, não compram com frequência e gastam pouco dinheiro. Eles podem estar menos envolvidos com a empresa.\n",
    "\n",
    "\n"
   ]
  },
  {
   "cell_type": "code",
   "execution_count": 27,
   "metadata": {
    "colab": {
     "base_uri": "https://localhost:8080/",
     "height": 423
    },
    "id": "Fdf7T98KHTWT",
    "outputId": "b1b3bf67-0876-4203-f1e1-4bffb2c22565"
   },
   "outputs": [
    {
     "data": {
      "text/html": [
       "<div>\n",
       "<style scoped>\n",
       "    .dataframe tbody tr th:only-of-type {\n",
       "        vertical-align: middle;\n",
       "    }\n",
       "\n",
       "    .dataframe tbody tr th {\n",
       "        vertical-align: top;\n",
       "    }\n",
       "\n",
       "    .dataframe thead th {\n",
       "        text-align: right;\n",
       "    }\n",
       "</style>\n",
       "<table border=\"1\" class=\"dataframe\">\n",
       "  <thead>\n",
       "    <tr style=\"text-align: right;\">\n",
       "      <th></th>\n",
       "      <th>ClienteID</th>\n",
       "      <th>DataCompra</th>\n",
       "      <th>Valor</th>\n",
       "      <th>produto_info</th>\n",
       "      <th>PedidoID</th>\n",
       "      <th>local</th>\n",
       "    </tr>\n",
       "  </thead>\n",
       "  <tbody>\n",
       "    <tr>\n",
       "      <th>0</th>\n",
       "      <td>8814</td>\n",
       "      <td>2023-04-11</td>\n",
       "      <td>943.31</td>\n",
       "      <td>Product C</td>\n",
       "      <td>890075</td>\n",
       "      <td>Tokyo</td>\n",
       "    </tr>\n",
       "    <tr>\n",
       "      <th>1</th>\n",
       "      <td>2188</td>\n",
       "      <td>2023-04-11</td>\n",
       "      <td>463.70</td>\n",
       "      <td>Product A</td>\n",
       "      <td>176819</td>\n",
       "      <td>London</td>\n",
       "    </tr>\n",
       "    <tr>\n",
       "      <th>2</th>\n",
       "      <td>4608</td>\n",
       "      <td>2023-04-11</td>\n",
       "      <td>80.28</td>\n",
       "      <td>Product A</td>\n",
       "      <td>340062</td>\n",
       "      <td>New York</td>\n",
       "    </tr>\n",
       "    <tr>\n",
       "      <th>3</th>\n",
       "      <td>2559</td>\n",
       "      <td>2023-04-11</td>\n",
       "      <td>221.29</td>\n",
       "      <td>Product A</td>\n",
       "      <td>239145</td>\n",
       "      <td>London</td>\n",
       "    </tr>\n",
       "    <tr>\n",
       "      <th>4</th>\n",
       "      <td>9482</td>\n",
       "      <td>2023-04-11</td>\n",
       "      <td>739.56</td>\n",
       "      <td>Product A</td>\n",
       "      <td>194545</td>\n",
       "      <td>Paris</td>\n",
       "    </tr>\n",
       "    <tr>\n",
       "      <th>...</th>\n",
       "      <td>...</td>\n",
       "      <td>...</td>\n",
       "      <td>...</td>\n",
       "      <td>...</td>\n",
       "      <td>...</td>\n",
       "      <td>...</td>\n",
       "    </tr>\n",
       "    <tr>\n",
       "      <th>995</th>\n",
       "      <td>2970</td>\n",
       "      <td>2023-06-10</td>\n",
       "      <td>759.62</td>\n",
       "      <td>Product B</td>\n",
       "      <td>275284</td>\n",
       "      <td>London</td>\n",
       "    </tr>\n",
       "    <tr>\n",
       "      <th>996</th>\n",
       "      <td>6669</td>\n",
       "      <td>2023-06-10</td>\n",
       "      <td>941.50</td>\n",
       "      <td>Product C</td>\n",
       "      <td>987025</td>\n",
       "      <td>New York</td>\n",
       "    </tr>\n",
       "    <tr>\n",
       "      <th>997</th>\n",
       "      <td>8836</td>\n",
       "      <td>2023-06-10</td>\n",
       "      <td>545.36</td>\n",
       "      <td>Product C</td>\n",
       "      <td>512842</td>\n",
       "      <td>London</td>\n",
       "    </tr>\n",
       "    <tr>\n",
       "      <th>998</th>\n",
       "      <td>1440</td>\n",
       "      <td>2023-06-10</td>\n",
       "      <td>729.94</td>\n",
       "      <td>Product B</td>\n",
       "      <td>559753</td>\n",
       "      <td>Paris</td>\n",
       "    </tr>\n",
       "    <tr>\n",
       "      <th>999</th>\n",
       "      <td>4759</td>\n",
       "      <td>2023-06-10</td>\n",
       "      <td>804.28</td>\n",
       "      <td>Product D</td>\n",
       "      <td>467544</td>\n",
       "      <td>New York</td>\n",
       "    </tr>\n",
       "  </tbody>\n",
       "</table>\n",
       "<p>1000 rows × 6 columns</p>\n",
       "</div>"
      ],
      "text/plain": [
       "     ClienteID  DataCompra   Valor produto_info  PedidoID     local\n",
       "0         8814  2023-04-11  943.31    Product C    890075     Tokyo\n",
       "1         2188  2023-04-11  463.70    Product A    176819    London\n",
       "2         4608  2023-04-11   80.28    Product A    340062  New York\n",
       "3         2559  2023-04-11  221.29    Product A    239145    London\n",
       "4         9482  2023-04-11  739.56    Product A    194545     Paris\n",
       "..         ...         ...     ...          ...       ...       ...\n",
       "995       2970  2023-06-10  759.62    Product B    275284    London\n",
       "996       6669  2023-06-10  941.50    Product C    987025  New York\n",
       "997       8836  2023-06-10  545.36    Product C    512842    London\n",
       "998       1440  2023-06-10  729.94    Product B    559753     Paris\n",
       "999       4759  2023-06-10  804.28    Product D    467544  New York\n",
       "\n",
       "[1000 rows x 6 columns]"
      ]
     },
     "execution_count": 27,
     "metadata": {},
     "output_type": "execute_result"
    }
   ],
   "source": [
    "import pandas as pd\n",
    "import plotly.express as px\n",
    "import plotly.io as pio\n",
    "import plotly.graph_objects as go\n",
    "from datetime import datetime\n",
    "\n",
    "\n",
    "pio.templates.default = \"plotly_white\"\n",
    "df = pd.read_csv(\"rfm_data.csv\")\n",
    "\n",
    "df.rename(columns={\n",
    "  'CustomerID': 'ClienteID',\n",
    "  'PurchaseDate': 'DataCompra',\n",
    "  'TransactionAmount': 'Valor',\n",
    "  'ProductInformation': 'produto_info',\n",
    "  'OrderID': 'PedidoID',\n",
    "  'Location': 'local'\n",
    "}, inplace=True)\n",
    "df\n"
   ]
  },
  {
   "cell_type": "markdown",
   "metadata": {
    "id": "2A0ZxYa4TsGH"
   },
   "source": [
    "#  <font color=\"#e76f51\">Cálculo de valores de RFM</font>"
   ]
  },
  {
   "cell_type": "markdown",
   "metadata": {
    "id": "uM0842YnTufI"
   },
   "source": [
    "##  <font color=\"#f4a261\">Recência  </font>"
   ]
  },
  {
   "cell_type": "markdown",
   "metadata": {
    "id": "a_HyYUhPTzCp"
   },
   "source": [
    "A recência é determinada calculando a diferença entre a data de compra mais recente e a data atual. O resultado desse cálculo nos fornece o número de dias desde a última compra do cliente."
   ]
  },
  {
   "cell_type": "code",
   "execution_count": 30,
   "metadata": {},
   "outputs": [
    {
     "ename": "AttributeError",
     "evalue": "Can only use .dt accessor with datetimelike values",
     "output_type": "error",
     "traceback": [
      "\u001b[0;31m---------------------------------------------------------------------------\u001b[0m",
      "\u001b[0;31mAttributeError\u001b[0m                            Traceback (most recent call last)",
      "Cell \u001b[0;32mIn[30], line 8\u001b[0m\n\u001b[1;32m      4\u001b[0m \u001b[39m# Calculando a diferença de datas em dias e atribuindo à coluna 'Recência'\u001b[39;00m\n\u001b[1;32m      5\u001b[0m \u001b[39mfrom\u001b[39;00m \u001b[39mdatetime\u001b[39;00m \u001b[39mimport\u001b[39;00m datetime\n\u001b[0;32m----> 8\u001b[0m df[\u001b[39m'\u001b[39m\u001b[39mRecência\u001b[39m\u001b[39m'\u001b[39m] \u001b[39m=\u001b[39m (datetime\u001b[39m.\u001b[39;49mnow()\u001b[39m.\u001b[39;49mdate() \u001b[39m-\u001b[39;49m df[\u001b[39m'\u001b[39;49m\u001b[39mDataCompra\u001b[39;49m\u001b[39m'\u001b[39;49m]\u001b[39m.\u001b[39;49mdt\u001b[39m.\u001b[39;49mdate)\u001b[39m.\u001b[39;49mdt\u001b[39m.\u001b[39mdays\n",
      "File \u001b[0;32m/opt/homebrew/lib/python3.11/site-packages/pandas/core/generic.py:5989\u001b[0m, in \u001b[0;36mNDFrame.__getattr__\u001b[0;34m(self, name)\u001b[0m\n\u001b[1;32m   5982\u001b[0m \u001b[39mif\u001b[39;00m (\n\u001b[1;32m   5983\u001b[0m     name \u001b[39mnot\u001b[39;00m \u001b[39min\u001b[39;00m \u001b[39mself\u001b[39m\u001b[39m.\u001b[39m_internal_names_set\n\u001b[1;32m   5984\u001b[0m     \u001b[39mand\u001b[39;00m name \u001b[39mnot\u001b[39;00m \u001b[39min\u001b[39;00m \u001b[39mself\u001b[39m\u001b[39m.\u001b[39m_metadata\n\u001b[1;32m   5985\u001b[0m     \u001b[39mand\u001b[39;00m name \u001b[39mnot\u001b[39;00m \u001b[39min\u001b[39;00m \u001b[39mself\u001b[39m\u001b[39m.\u001b[39m_accessors\n\u001b[1;32m   5986\u001b[0m     \u001b[39mand\u001b[39;00m \u001b[39mself\u001b[39m\u001b[39m.\u001b[39m_info_axis\u001b[39m.\u001b[39m_can_hold_identifiers_and_holds_name(name)\n\u001b[1;32m   5987\u001b[0m ):\n\u001b[1;32m   5988\u001b[0m     \u001b[39mreturn\u001b[39;00m \u001b[39mself\u001b[39m[name]\n\u001b[0;32m-> 5989\u001b[0m \u001b[39mreturn\u001b[39;00m \u001b[39mobject\u001b[39;49m\u001b[39m.\u001b[39;49m\u001b[39m__getattribute__\u001b[39;49m(\u001b[39mself\u001b[39;49m, name)\n",
      "File \u001b[0;32m/opt/homebrew/lib/python3.11/site-packages/pandas/core/accessor.py:224\u001b[0m, in \u001b[0;36mCachedAccessor.__get__\u001b[0;34m(self, obj, cls)\u001b[0m\n\u001b[1;32m    221\u001b[0m \u001b[39mif\u001b[39;00m obj \u001b[39mis\u001b[39;00m \u001b[39mNone\u001b[39;00m:\n\u001b[1;32m    222\u001b[0m     \u001b[39m# we're accessing the attribute of the class, i.e., Dataset.geo\u001b[39;00m\n\u001b[1;32m    223\u001b[0m     \u001b[39mreturn\u001b[39;00m \u001b[39mself\u001b[39m\u001b[39m.\u001b[39m_accessor\n\u001b[0;32m--> 224\u001b[0m accessor_obj \u001b[39m=\u001b[39m \u001b[39mself\u001b[39;49m\u001b[39m.\u001b[39;49m_accessor(obj)\n\u001b[1;32m    225\u001b[0m \u001b[39m# Replace the property with the accessor object. Inspired by:\u001b[39;00m\n\u001b[1;32m    226\u001b[0m \u001b[39m# https://www.pydanny.com/cached-property.html\u001b[39;00m\n\u001b[1;32m    227\u001b[0m \u001b[39m# We need to use object.__setattr__ because we overwrite __setattr__ on\u001b[39;00m\n\u001b[1;32m    228\u001b[0m \u001b[39m# NDFrame\u001b[39;00m\n\u001b[1;32m    229\u001b[0m \u001b[39mobject\u001b[39m\u001b[39m.\u001b[39m\u001b[39m__setattr__\u001b[39m(obj, \u001b[39mself\u001b[39m\u001b[39m.\u001b[39m_name, accessor_obj)\n",
      "File \u001b[0;32m/opt/homebrew/lib/python3.11/site-packages/pandas/core/indexes/accessors.py:580\u001b[0m, in \u001b[0;36mCombinedDatetimelikeProperties.__new__\u001b[0;34m(cls, data)\u001b[0m\n\u001b[1;32m    577\u001b[0m \u001b[39melif\u001b[39;00m is_period_dtype(data\u001b[39m.\u001b[39mdtype):\n\u001b[1;32m    578\u001b[0m     \u001b[39mreturn\u001b[39;00m PeriodProperties(data, orig)\n\u001b[0;32m--> 580\u001b[0m \u001b[39mraise\u001b[39;00m \u001b[39mAttributeError\u001b[39;00m(\u001b[39m\"\u001b[39m\u001b[39mCan only use .dt accessor with datetimelike values\u001b[39m\u001b[39m\"\u001b[39m)\n",
      "\u001b[0;31mAttributeError\u001b[0m: Can only use .dt accessor with datetimelike values"
     ]
    }
   ],
   "source": [
    "# Convertendo 'DataCompra' para datetime:\n",
    "df['DataCompra'] = pd.to_datetime(df['DataCompra'])\n",
    "\n",
    "df['Recência'] = (datetime.now().date() - df['DataCompra'].dt.date).dt.days\n",
    "df"
   ]
  },
  {
   "cell_type": "code",
   "execution_count": 6,
   "metadata": {
    "colab": {
     "base_uri": "https://localhost:8080/",
     "height": 495
    },
    "id": "ew8Tna1YHq3A",
    "outputId": "ac08ed98-9069-465e-fe26-633fed3f4602"
   },
   "outputs": [
    {
     "ename": "AttributeError",
     "evalue": "Can only use .dt accessor with datetimelike values",
     "output_type": "error",
     "traceback": [
      "\u001b[0;31m---------------------------------------------------------------------------\u001b[0m",
      "\u001b[0;31mAttributeError\u001b[0m                            Traceback (most recent call last)",
      "Cell \u001b[0;32mIn[6], line 5\u001b[0m\n\u001b[1;32m      2\u001b[0m df[\u001b[39m'\u001b[39m\u001b[39mDataCompra\u001b[39m\u001b[39m'\u001b[39m] \u001b[39m=\u001b[39m pd\u001b[39m.\u001b[39mto_datetime(df[\u001b[39m'\u001b[39m\u001b[39mDataCompra\u001b[39m\u001b[39m'\u001b[39m])\n\u001b[1;32m      4\u001b[0m diferenca \u001b[39m=\u001b[39m datetime\u001b[39m.\u001b[39mnow()\u001b[39m.\u001b[39mdate() \u001b[39m-\u001b[39m df[\u001b[39m'\u001b[39m\u001b[39mDataCompra\u001b[39m\u001b[39m'\u001b[39m]\u001b[39m.\u001b[39mdt\u001b[39m.\u001b[39mdate\n\u001b[0;32m----> 5\u001b[0m dias \u001b[39m=\u001b[39m diferenca\u001b[39m.\u001b[39;49mdt\u001b[39m.\u001b[39mdays\n\u001b[1;32m      6\u001b[0m df[\u001b[39m'\u001b[39m\u001b[39mRecência\u001b[39m\u001b[39m'\u001b[39m] \u001b[39m=\u001b[39m dias\n\u001b[1;32m      7\u001b[0m df\n",
      "File \u001b[0;32m/opt/homebrew/lib/python3.11/site-packages/pandas/core/generic.py:5989\u001b[0m, in \u001b[0;36mNDFrame.__getattr__\u001b[0;34m(self, name)\u001b[0m\n\u001b[1;32m   5982\u001b[0m \u001b[39mif\u001b[39;00m (\n\u001b[1;32m   5983\u001b[0m     name \u001b[39mnot\u001b[39;00m \u001b[39min\u001b[39;00m \u001b[39mself\u001b[39m\u001b[39m.\u001b[39m_internal_names_set\n\u001b[1;32m   5984\u001b[0m     \u001b[39mand\u001b[39;00m name \u001b[39mnot\u001b[39;00m \u001b[39min\u001b[39;00m \u001b[39mself\u001b[39m\u001b[39m.\u001b[39m_metadata\n\u001b[1;32m   5985\u001b[0m     \u001b[39mand\u001b[39;00m name \u001b[39mnot\u001b[39;00m \u001b[39min\u001b[39;00m \u001b[39mself\u001b[39m\u001b[39m.\u001b[39m_accessors\n\u001b[1;32m   5986\u001b[0m     \u001b[39mand\u001b[39;00m \u001b[39mself\u001b[39m\u001b[39m.\u001b[39m_info_axis\u001b[39m.\u001b[39m_can_hold_identifiers_and_holds_name(name)\n\u001b[1;32m   5987\u001b[0m ):\n\u001b[1;32m   5988\u001b[0m     \u001b[39mreturn\u001b[39;00m \u001b[39mself\u001b[39m[name]\n\u001b[0;32m-> 5989\u001b[0m \u001b[39mreturn\u001b[39;00m \u001b[39mobject\u001b[39;49m\u001b[39m.\u001b[39;49m\u001b[39m__getattribute__\u001b[39;49m(\u001b[39mself\u001b[39;49m, name)\n",
      "File \u001b[0;32m/opt/homebrew/lib/python3.11/site-packages/pandas/core/accessor.py:224\u001b[0m, in \u001b[0;36mCachedAccessor.__get__\u001b[0;34m(self, obj, cls)\u001b[0m\n\u001b[1;32m    221\u001b[0m \u001b[39mif\u001b[39;00m obj \u001b[39mis\u001b[39;00m \u001b[39mNone\u001b[39;00m:\n\u001b[1;32m    222\u001b[0m     \u001b[39m# we're accessing the attribute of the class, i.e., Dataset.geo\u001b[39;00m\n\u001b[1;32m    223\u001b[0m     \u001b[39mreturn\u001b[39;00m \u001b[39mself\u001b[39m\u001b[39m.\u001b[39m_accessor\n\u001b[0;32m--> 224\u001b[0m accessor_obj \u001b[39m=\u001b[39m \u001b[39mself\u001b[39;49m\u001b[39m.\u001b[39;49m_accessor(obj)\n\u001b[1;32m    225\u001b[0m \u001b[39m# Replace the property with the accessor object. Inspired by:\u001b[39;00m\n\u001b[1;32m    226\u001b[0m \u001b[39m# https://www.pydanny.com/cached-property.html\u001b[39;00m\n\u001b[1;32m    227\u001b[0m \u001b[39m# We need to use object.__setattr__ because we overwrite __setattr__ on\u001b[39;00m\n\u001b[1;32m    228\u001b[0m \u001b[39m# NDFrame\u001b[39;00m\n\u001b[1;32m    229\u001b[0m \u001b[39mobject\u001b[39m\u001b[39m.\u001b[39m\u001b[39m__setattr__\u001b[39m(obj, \u001b[39mself\u001b[39m\u001b[39m.\u001b[39m_name, accessor_obj)\n",
      "File \u001b[0;32m/opt/homebrew/lib/python3.11/site-packages/pandas/core/indexes/accessors.py:580\u001b[0m, in \u001b[0;36mCombinedDatetimelikeProperties.__new__\u001b[0;34m(cls, data)\u001b[0m\n\u001b[1;32m    577\u001b[0m \u001b[39melif\u001b[39;00m is_period_dtype(data\u001b[39m.\u001b[39mdtype):\n\u001b[1;32m    578\u001b[0m     \u001b[39mreturn\u001b[39;00m PeriodProperties(data, orig)\n\u001b[0;32m--> 580\u001b[0m \u001b[39mraise\u001b[39;00m \u001b[39mAttributeError\u001b[39;00m(\u001b[39m\"\u001b[39m\u001b[39mCan only use .dt accessor with datetimelike values\u001b[39m\u001b[39m\"\u001b[39m)\n",
      "\u001b[0;31mAttributeError\u001b[0m: Can only use .dt accessor with datetimelike values"
     ]
    }
   ],
   "source": []
  },
  {
   "cell_type": "markdown",
   "metadata": {
    "id": "bm9HadlTUdyR"
   },
   "source": [
    "## <font color=\"#f4a261\">Frequência  </font>"
   ]
  },
  {
   "cell_type": "markdown",
   "metadata": {
    "id": "hcHBjGvNUhua"
   },
   "source": [
    "A métrica de frequência é calculada individualmente para cada cliente. Para isso, os dados são agrupados com base no campo 'ClienteID', e o número de valores únicos no campo 'PedidoID' é contado. Esse processo permite determinar quantas compras cada cliente fez.\n",
    "\n",
    "O resultado dessa contagem nos fornece a métrica de frequência, que representa o total de compras realizadas por cada cliente."
   ]
  },
  {
   "cell_type": "code",
   "execution_count": 20,
   "metadata": {
    "colab": {
     "base_uri": "https://localhost:8080/",
     "height": 495
    },
    "id": "dbwZ44LmU6QL",
    "outputId": "d149c974-0c62-46ba-b80b-d5219e8104b9"
   },
   "outputs": [
    {
     "data": {
      "text/html": [
       "<div>\n",
       "<style scoped>\n",
       "    .dataframe tbody tr th:only-of-type {\n",
       "        vertical-align: middle;\n",
       "    }\n",
       "\n",
       "    .dataframe tbody tr th {\n",
       "        vertical-align: top;\n",
       "    }\n",
       "\n",
       "    .dataframe thead th {\n",
       "        text-align: right;\n",
       "    }\n",
       "</style>\n",
       "<table border=\"1\" class=\"dataframe\">\n",
       "  <thead>\n",
       "    <tr style=\"text-align: right;\">\n",
       "      <th></th>\n",
       "      <th>ClienteID</th>\n",
       "      <th>DataCompra</th>\n",
       "      <th>Valor</th>\n",
       "      <th>produto_info</th>\n",
       "      <th>PedidoID</th>\n",
       "      <th>local</th>\n",
       "      <th>Frequência</th>\n",
       "    </tr>\n",
       "  </thead>\n",
       "  <tbody>\n",
       "    <tr>\n",
       "      <th>0</th>\n",
       "      <td>8814</td>\n",
       "      <td>2023-04-11</td>\n",
       "      <td>943.31</td>\n",
       "      <td>Product C</td>\n",
       "      <td>890075</td>\n",
       "      <td>Tokyo</td>\n",
       "      <td>1</td>\n",
       "    </tr>\n",
       "    <tr>\n",
       "      <th>1</th>\n",
       "      <td>2188</td>\n",
       "      <td>2023-04-11</td>\n",
       "      <td>463.70</td>\n",
       "      <td>Product A</td>\n",
       "      <td>176819</td>\n",
       "      <td>London</td>\n",
       "      <td>1</td>\n",
       "    </tr>\n",
       "    <tr>\n",
       "      <th>2</th>\n",
       "      <td>4608</td>\n",
       "      <td>2023-04-11</td>\n",
       "      <td>80.28</td>\n",
       "      <td>Product A</td>\n",
       "      <td>340062</td>\n",
       "      <td>New York</td>\n",
       "      <td>1</td>\n",
       "    </tr>\n",
       "    <tr>\n",
       "      <th>3</th>\n",
       "      <td>2559</td>\n",
       "      <td>2023-04-11</td>\n",
       "      <td>221.29</td>\n",
       "      <td>Product A</td>\n",
       "      <td>239145</td>\n",
       "      <td>London</td>\n",
       "      <td>1</td>\n",
       "    </tr>\n",
       "    <tr>\n",
       "      <th>4</th>\n",
       "      <td>9482</td>\n",
       "      <td>2023-04-11</td>\n",
       "      <td>739.56</td>\n",
       "      <td>Product A</td>\n",
       "      <td>194545</td>\n",
       "      <td>Paris</td>\n",
       "      <td>1</td>\n",
       "    </tr>\n",
       "    <tr>\n",
       "      <th>...</th>\n",
       "      <td>...</td>\n",
       "      <td>...</td>\n",
       "      <td>...</td>\n",
       "      <td>...</td>\n",
       "      <td>...</td>\n",
       "      <td>...</td>\n",
       "      <td>...</td>\n",
       "    </tr>\n",
       "    <tr>\n",
       "      <th>995</th>\n",
       "      <td>2970</td>\n",
       "      <td>2023-06-10</td>\n",
       "      <td>759.62</td>\n",
       "      <td>Product B</td>\n",
       "      <td>275284</td>\n",
       "      <td>London</td>\n",
       "      <td>1</td>\n",
       "    </tr>\n",
       "    <tr>\n",
       "      <th>996</th>\n",
       "      <td>6669</td>\n",
       "      <td>2023-06-10</td>\n",
       "      <td>941.50</td>\n",
       "      <td>Product C</td>\n",
       "      <td>987025</td>\n",
       "      <td>New York</td>\n",
       "      <td>1</td>\n",
       "    </tr>\n",
       "    <tr>\n",
       "      <th>997</th>\n",
       "      <td>8836</td>\n",
       "      <td>2023-06-10</td>\n",
       "      <td>545.36</td>\n",
       "      <td>Product C</td>\n",
       "      <td>512842</td>\n",
       "      <td>London</td>\n",
       "      <td>1</td>\n",
       "    </tr>\n",
       "    <tr>\n",
       "      <th>998</th>\n",
       "      <td>1440</td>\n",
       "      <td>2023-06-10</td>\n",
       "      <td>729.94</td>\n",
       "      <td>Product B</td>\n",
       "      <td>559753</td>\n",
       "      <td>Paris</td>\n",
       "      <td>1</td>\n",
       "    </tr>\n",
       "    <tr>\n",
       "      <th>999</th>\n",
       "      <td>4759</td>\n",
       "      <td>2023-06-10</td>\n",
       "      <td>804.28</td>\n",
       "      <td>Product D</td>\n",
       "      <td>467544</td>\n",
       "      <td>New York</td>\n",
       "      <td>1</td>\n",
       "    </tr>\n",
       "  </tbody>\n",
       "</table>\n",
       "<p>1000 rows × 7 columns</p>\n",
       "</div>"
      ],
      "text/plain": [
       "     ClienteID  DataCompra   Valor produto_info  PedidoID     local  \\\n",
       "0         8814  2023-04-11  943.31    Product C    890075     Tokyo   \n",
       "1         2188  2023-04-11  463.70    Product A    176819    London   \n",
       "2         4608  2023-04-11   80.28    Product A    340062  New York   \n",
       "3         2559  2023-04-11  221.29    Product A    239145    London   \n",
       "4         9482  2023-04-11  739.56    Product A    194545     Paris   \n",
       "..         ...         ...     ...          ...       ...       ...   \n",
       "995       2970  2023-06-10  759.62    Product B    275284    London   \n",
       "996       6669  2023-06-10  941.50    Product C    987025  New York   \n",
       "997       8836  2023-06-10  545.36    Product C    512842    London   \n",
       "998       1440  2023-06-10  729.94    Product B    559753     Paris   \n",
       "999       4759  2023-06-10  804.28    Product D    467544  New York   \n",
       "\n",
       "     Frequência  \n",
       "0             1  \n",
       "1             1  \n",
       "2             1  \n",
       "3             1  \n",
       "4             1  \n",
       "..          ...  \n",
       "995           1  \n",
       "996           1  \n",
       "997           1  \n",
       "998           1  \n",
       "999           1  \n",
       "\n",
       "[1000 rows x 7 columns]"
      ]
     },
     "execution_count": 20,
     "metadata": {},
     "output_type": "execute_result"
    }
   ],
   "source": [
    "frequency_df = df.groupby('ClienteID')['PedidoID'].count().reset_index()\n",
    "frequency_df.rename(columns={'PedidoID': 'Frequência'}, inplace=True)\n",
    "df = df.merge(frequency_df, on='ClienteID', how='left')\n",
    "df"
   ]
  },
  {
   "cell_type": "markdown",
   "metadata": {
    "id": "pCI2trkBVvVC"
   },
   "source": [
    "## <font color=\"#f4a261\">Valor Monetário  </font>"
   ]
  },
  {
   "cell_type": "markdown",
   "metadata": {
    "id": "x2WlXOQTVx7g"
   },
   "source": [
    "Os dados são agrupados com base no critério \"ClienteID\", e os valores da coluna \"Valor\" são somados. Isso resulta em um valor monetário único para cada cliente, refletindo o montante total de suas transações."
   ]
  },
  {
   "cell_type": "code",
   "execution_count": 21,
   "metadata": {
    "colab": {
     "base_uri": "https://localhost:8080/",
     "height": 495
    },
    "id": "CBJ3Ng3WVrZB",
    "outputId": "ab781c06-f009-4408-9c9d-90ad126ccaee"
   },
   "outputs": [
    {
     "data": {
      "text/html": [
       "<div>\n",
       "<style scoped>\n",
       "    .dataframe tbody tr th:only-of-type {\n",
       "        vertical-align: middle;\n",
       "    }\n",
       "\n",
       "    .dataframe tbody tr th {\n",
       "        vertical-align: top;\n",
       "    }\n",
       "\n",
       "    .dataframe thead th {\n",
       "        text-align: right;\n",
       "    }\n",
       "</style>\n",
       "<table border=\"1\" class=\"dataframe\">\n",
       "  <thead>\n",
       "    <tr style=\"text-align: right;\">\n",
       "      <th></th>\n",
       "      <th>ClienteID</th>\n",
       "      <th>DataCompra</th>\n",
       "      <th>Valor</th>\n",
       "      <th>produto_info</th>\n",
       "      <th>PedidoID</th>\n",
       "      <th>local</th>\n",
       "      <th>Frequência</th>\n",
       "      <th>ValorMonetário</th>\n",
       "    </tr>\n",
       "  </thead>\n",
       "  <tbody>\n",
       "    <tr>\n",
       "      <th>0</th>\n",
       "      <td>8814</td>\n",
       "      <td>2023-04-11</td>\n",
       "      <td>943.31</td>\n",
       "      <td>Product C</td>\n",
       "      <td>890075</td>\n",
       "      <td>Tokyo</td>\n",
       "      <td>1</td>\n",
       "      <td>943.31</td>\n",
       "    </tr>\n",
       "    <tr>\n",
       "      <th>1</th>\n",
       "      <td>2188</td>\n",
       "      <td>2023-04-11</td>\n",
       "      <td>463.70</td>\n",
       "      <td>Product A</td>\n",
       "      <td>176819</td>\n",
       "      <td>London</td>\n",
       "      <td>1</td>\n",
       "      <td>463.70</td>\n",
       "    </tr>\n",
       "    <tr>\n",
       "      <th>2</th>\n",
       "      <td>4608</td>\n",
       "      <td>2023-04-11</td>\n",
       "      <td>80.28</td>\n",
       "      <td>Product A</td>\n",
       "      <td>340062</td>\n",
       "      <td>New York</td>\n",
       "      <td>1</td>\n",
       "      <td>80.28</td>\n",
       "    </tr>\n",
       "    <tr>\n",
       "      <th>3</th>\n",
       "      <td>2559</td>\n",
       "      <td>2023-04-11</td>\n",
       "      <td>221.29</td>\n",
       "      <td>Product A</td>\n",
       "      <td>239145</td>\n",
       "      <td>London</td>\n",
       "      <td>1</td>\n",
       "      <td>221.29</td>\n",
       "    </tr>\n",
       "    <tr>\n",
       "      <th>4</th>\n",
       "      <td>9482</td>\n",
       "      <td>2023-04-11</td>\n",
       "      <td>739.56</td>\n",
       "      <td>Product A</td>\n",
       "      <td>194545</td>\n",
       "      <td>Paris</td>\n",
       "      <td>1</td>\n",
       "      <td>739.56</td>\n",
       "    </tr>\n",
       "    <tr>\n",
       "      <th>...</th>\n",
       "      <td>...</td>\n",
       "      <td>...</td>\n",
       "      <td>...</td>\n",
       "      <td>...</td>\n",
       "      <td>...</td>\n",
       "      <td>...</td>\n",
       "      <td>...</td>\n",
       "      <td>...</td>\n",
       "    </tr>\n",
       "    <tr>\n",
       "      <th>995</th>\n",
       "      <td>2970</td>\n",
       "      <td>2023-06-10</td>\n",
       "      <td>759.62</td>\n",
       "      <td>Product B</td>\n",
       "      <td>275284</td>\n",
       "      <td>London</td>\n",
       "      <td>1</td>\n",
       "      <td>759.62</td>\n",
       "    </tr>\n",
       "    <tr>\n",
       "      <th>996</th>\n",
       "      <td>6669</td>\n",
       "      <td>2023-06-10</td>\n",
       "      <td>941.50</td>\n",
       "      <td>Product C</td>\n",
       "      <td>987025</td>\n",
       "      <td>New York</td>\n",
       "      <td>1</td>\n",
       "      <td>941.50</td>\n",
       "    </tr>\n",
       "    <tr>\n",
       "      <th>997</th>\n",
       "      <td>8836</td>\n",
       "      <td>2023-06-10</td>\n",
       "      <td>545.36</td>\n",
       "      <td>Product C</td>\n",
       "      <td>512842</td>\n",
       "      <td>London</td>\n",
       "      <td>1</td>\n",
       "      <td>545.36</td>\n",
       "    </tr>\n",
       "    <tr>\n",
       "      <th>998</th>\n",
       "      <td>1440</td>\n",
       "      <td>2023-06-10</td>\n",
       "      <td>729.94</td>\n",
       "      <td>Product B</td>\n",
       "      <td>559753</td>\n",
       "      <td>Paris</td>\n",
       "      <td>1</td>\n",
       "      <td>729.94</td>\n",
       "    </tr>\n",
       "    <tr>\n",
       "      <th>999</th>\n",
       "      <td>4759</td>\n",
       "      <td>2023-06-10</td>\n",
       "      <td>804.28</td>\n",
       "      <td>Product D</td>\n",
       "      <td>467544</td>\n",
       "      <td>New York</td>\n",
       "      <td>1</td>\n",
       "      <td>804.28</td>\n",
       "    </tr>\n",
       "  </tbody>\n",
       "</table>\n",
       "<p>1000 rows × 8 columns</p>\n",
       "</div>"
      ],
      "text/plain": [
       "     ClienteID  DataCompra   Valor produto_info  PedidoID     local  \\\n",
       "0         8814  2023-04-11  943.31    Product C    890075     Tokyo   \n",
       "1         2188  2023-04-11  463.70    Product A    176819    London   \n",
       "2         4608  2023-04-11   80.28    Product A    340062  New York   \n",
       "3         2559  2023-04-11  221.29    Product A    239145    London   \n",
       "4         9482  2023-04-11  739.56    Product A    194545     Paris   \n",
       "..         ...         ...     ...          ...       ...       ...   \n",
       "995       2970  2023-06-10  759.62    Product B    275284    London   \n",
       "996       6669  2023-06-10  941.50    Product C    987025  New York   \n",
       "997       8836  2023-06-10  545.36    Product C    512842    London   \n",
       "998       1440  2023-06-10  729.94    Product B    559753     Paris   \n",
       "999       4759  2023-06-10  804.28    Product D    467544  New York   \n",
       "\n",
       "     Frequência  ValorMonetário  \n",
       "0             1          943.31  \n",
       "1             1          463.70  \n",
       "2             1           80.28  \n",
       "3             1          221.29  \n",
       "4             1          739.56  \n",
       "..          ...             ...  \n",
       "995           1          759.62  \n",
       "996           1          941.50  \n",
       "997           1          545.36  \n",
       "998           1          729.94  \n",
       "999           1          804.28  \n",
       "\n",
       "[1000 rows x 8 columns]"
      ]
     },
     "execution_count": 21,
     "metadata": {},
     "output_type": "execute_result"
    }
   ],
   "source": [
    "monetary_df = df.groupby('ClienteID')['Valor'].sum().reset_index()\n",
    "monetary_df.rename(columns={'Valor': 'ValorMonetário'}, inplace=True)\n",
    "df = df.merge(monetary_df, on='ClienteID', how='left')\n",
    "df"
   ]
  },
  {
   "cell_type": "markdown",
   "metadata": {
    "id": "DzReV122WtA_"
   },
   "source": [
    "#  <font color=\"#e76f51\">Calculando as pontuações RFM </font>"
   ]
  },
  {
   "cell_type": "markdown",
   "metadata": {
    "id": "1PV5EcIPXAe8"
   },
   "source": [
    "## <font color=\"#f4a261\">Definindo os critérios de pontuação para cada um dos valores do RFM  </font>"
   ]
  },
  {
   "cell_type": "markdown",
   "metadata": {
    "id": "P-5MFEEAXddC"
   },
   "source": [
    "***Recência:***\n",
    "\n",
    "Quanto mais recente a interação do cliente, maior será a pontuação.\n",
    ">5 é a pontuação mais alta e representa uma recência menor (mais recente).\n",
    "\n",
    "> 1 é a pontuação mais baixa e representa uma recência maior (menos recente).\n",
    "\n",
    "\n",
    "\n",
    "***Frequência:***\n",
    "\n",
    "Quanto mais o cliente interage ou compra, maior será a pontuação\n",
    "> 1 é a pontuação mais baixa e representa uma frequência menor.\n",
    "\n",
    "> 5 é a pontuação mais alta e representa uma frequência maior.\n",
    "\n",
    "\n",
    "***Valor Monetário:***\n",
    "\n",
    "Quanto mais dinheiro o cliente gasta, maior será a pontuação\n",
    "\n",
    "\n",
    "\n",
    "> 1 é a pontuação mais baixa e representa um valor monetário menor.\n",
    "\n",
    "\n",
    "> 5 é a pontuação mais alta e representa um valor monetário maior.\n",
    "\n"
   ]
  },
  {
   "cell_type": "code",
   "execution_count": 22,
   "metadata": {
    "colab": {
     "base_uri": "https://localhost:8080/",
     "height": 495
    },
    "id": "k8wjJYVWW2gl",
    "outputId": "ecf49692-41c0-4e07-a459-a00bc48e3105"
   },
   "outputs": [
    {
     "ename": "KeyError",
     "evalue": "'Recência'",
     "output_type": "error",
     "traceback": [
      "\u001b[0;31m---------------------------------------------------------------------------\u001b[0m",
      "\u001b[0;31mKeyError\u001b[0m                                  Traceback (most recent call last)",
      "File \u001b[0;32m/opt/homebrew/lib/python3.11/site-packages/pandas/core/indexes/base.py:3653\u001b[0m, in \u001b[0;36mIndex.get_loc\u001b[0;34m(self, key)\u001b[0m\n\u001b[1;32m   3652\u001b[0m \u001b[39mtry\u001b[39;00m:\n\u001b[0;32m-> 3653\u001b[0m     \u001b[39mreturn\u001b[39;00m \u001b[39mself\u001b[39;49m\u001b[39m.\u001b[39;49m_engine\u001b[39m.\u001b[39;49mget_loc(casted_key)\n\u001b[1;32m   3654\u001b[0m \u001b[39mexcept\u001b[39;00m \u001b[39mKeyError\u001b[39;00m \u001b[39mas\u001b[39;00m err:\n",
      "File \u001b[0;32m/opt/homebrew/lib/python3.11/site-packages/pandas/_libs/index.pyx:147\u001b[0m, in \u001b[0;36mpandas._libs.index.IndexEngine.get_loc\u001b[0;34m()\u001b[0m\n",
      "File \u001b[0;32m/opt/homebrew/lib/python3.11/site-packages/pandas/_libs/index.pyx:176\u001b[0m, in \u001b[0;36mpandas._libs.index.IndexEngine.get_loc\u001b[0;34m()\u001b[0m\n",
      "File \u001b[0;32mpandas/_libs/hashtable_class_helper.pxi:7080\u001b[0m, in \u001b[0;36mpandas._libs.hashtable.PyObjectHashTable.get_item\u001b[0;34m()\u001b[0m\n",
      "File \u001b[0;32mpandas/_libs/hashtable_class_helper.pxi:7088\u001b[0m, in \u001b[0;36mpandas._libs.hashtable.PyObjectHashTable.get_item\u001b[0;34m()\u001b[0m\n",
      "\u001b[0;31mKeyError\u001b[0m: 'Recência'",
      "\nThe above exception was the direct cause of the following exception:\n",
      "\u001b[0;31mKeyError\u001b[0m                                  Traceback (most recent call last)",
      "Cell \u001b[0;32mIn[22], line 7\u001b[0m\n\u001b[1;32m      4\u001b[0m monetary_scores \u001b[39m=\u001b[39m [\u001b[39m1\u001b[39m, \u001b[39m2\u001b[39m, \u001b[39m3\u001b[39m, \u001b[39m4\u001b[39m, \u001b[39m5\u001b[39m]\n\u001b[1;32m      6\u001b[0m \u001b[39m# Cálculo das pontuações:\u001b[39;00m\n\u001b[0;32m----> 7\u001b[0m df[\u001b[39m'\u001b[39m\u001b[39mRecênciaScore\u001b[39m\u001b[39m'\u001b[39m] \u001b[39m=\u001b[39m pd\u001b[39m.\u001b[39mcut(df[\u001b[39m'\u001b[39;49m\u001b[39mRecência\u001b[39;49m\u001b[39m'\u001b[39;49m], bins\u001b[39m=\u001b[39m\u001b[39m5\u001b[39m, labels\u001b[39m=\u001b[39mrecency_scores)\n\u001b[1;32m      8\u001b[0m df[\u001b[39m'\u001b[39m\u001b[39mFrequênciaScore\u001b[39m\u001b[39m'\u001b[39m] \u001b[39m=\u001b[39m pd\u001b[39m.\u001b[39mcut(df[\u001b[39m'\u001b[39m\u001b[39mFrequência\u001b[39m\u001b[39m'\u001b[39m], bins\u001b[39m=\u001b[39m\u001b[39m5\u001b[39m, labels\u001b[39m=\u001b[39mfrequency_scores)\n\u001b[1;32m      9\u001b[0m df[\u001b[39m'\u001b[39m\u001b[39mMonetárioScore\u001b[39m\u001b[39m'\u001b[39m] \u001b[39m=\u001b[39m pd\u001b[39m.\u001b[39mcut(df[\u001b[39m'\u001b[39m\u001b[39mValorMonetário\u001b[39m\u001b[39m'\u001b[39m], bins\u001b[39m=\u001b[39m\u001b[39m5\u001b[39m, labels\u001b[39m=\u001b[39mmonetary_scores)\n",
      "File \u001b[0;32m/opt/homebrew/lib/python3.11/site-packages/pandas/core/frame.py:3761\u001b[0m, in \u001b[0;36mDataFrame.__getitem__\u001b[0;34m(self, key)\u001b[0m\n\u001b[1;32m   3759\u001b[0m \u001b[39mif\u001b[39;00m \u001b[39mself\u001b[39m\u001b[39m.\u001b[39mcolumns\u001b[39m.\u001b[39mnlevels \u001b[39m>\u001b[39m \u001b[39m1\u001b[39m:\n\u001b[1;32m   3760\u001b[0m     \u001b[39mreturn\u001b[39;00m \u001b[39mself\u001b[39m\u001b[39m.\u001b[39m_getitem_multilevel(key)\n\u001b[0;32m-> 3761\u001b[0m indexer \u001b[39m=\u001b[39m \u001b[39mself\u001b[39;49m\u001b[39m.\u001b[39;49mcolumns\u001b[39m.\u001b[39;49mget_loc(key)\n\u001b[1;32m   3762\u001b[0m \u001b[39mif\u001b[39;00m is_integer(indexer):\n\u001b[1;32m   3763\u001b[0m     indexer \u001b[39m=\u001b[39m [indexer]\n",
      "File \u001b[0;32m/opt/homebrew/lib/python3.11/site-packages/pandas/core/indexes/base.py:3655\u001b[0m, in \u001b[0;36mIndex.get_loc\u001b[0;34m(self, key)\u001b[0m\n\u001b[1;32m   3653\u001b[0m     \u001b[39mreturn\u001b[39;00m \u001b[39mself\u001b[39m\u001b[39m.\u001b[39m_engine\u001b[39m.\u001b[39mget_loc(casted_key)\n\u001b[1;32m   3654\u001b[0m \u001b[39mexcept\u001b[39;00m \u001b[39mKeyError\u001b[39;00m \u001b[39mas\u001b[39;00m err:\n\u001b[0;32m-> 3655\u001b[0m     \u001b[39mraise\u001b[39;00m \u001b[39mKeyError\u001b[39;00m(key) \u001b[39mfrom\u001b[39;00m \u001b[39merr\u001b[39;00m\n\u001b[1;32m   3656\u001b[0m \u001b[39mexcept\u001b[39;00m \u001b[39mTypeError\u001b[39;00m:\n\u001b[1;32m   3657\u001b[0m     \u001b[39m# If we have a listlike key, _check_indexing_error will raise\u001b[39;00m\n\u001b[1;32m   3658\u001b[0m     \u001b[39m#  InvalidIndexError. Otherwise we fall through and re-raise\u001b[39;00m\n\u001b[1;32m   3659\u001b[0m     \u001b[39m#  the TypeError.\u001b[39;00m\n\u001b[1;32m   3660\u001b[0m     \u001b[39mself\u001b[39m\u001b[39m.\u001b[39m_check_indexing_error(key)\n",
      "\u001b[0;31mKeyError\u001b[0m: 'Recência'"
     ]
    }
   ],
   "source": [
    "# Definição dos critérios:\n",
    "recency_scores = [5, 4, 3, 2, 1]\n",
    "frequency_scores = [1, 2, 3, 4, 5]\n",
    "monetary_scores = [1, 2, 3, 4, 5]\n",
    "\n",
    "# Cálculo das pontuações:\n",
    "df['RecênciaScore'] = pd.cut(df['Recência'], bins=5, labels=recency_scores)\n",
    "df['FrequênciaScore'] = pd.cut(df['Frequência'], bins=5, labels=frequency_scores)\n",
    "df['MonetárioScore'] = pd.cut(df['ValorMonetário'], bins=5, labels=monetary_scores)\n",
    "\n",
    "df"
   ]
  },
  {
   "cell_type": "markdown",
   "metadata": {
    "id": "x1hRDVVBfe_v"
   },
   "source": [
    "Para calcular as pontuações RFM, foi aplicada a função pd.cut() para segmentar os valores de recência, frequência e valor monetário em intervalos. Foram definidos 5 intervalos para cada valor e as pontuações correspondentes atribuidas a cada intervalo.\n",
    "\n",
    "Após a adição das pontuações aos dados, é possível observar que elas são representadas como variáveis categóricas."
   ]
  },
  {
   "cell_type": "code",
   "execution_count": null,
   "metadata": {
    "colab": {
     "base_uri": "https://localhost:8080/"
    },
    "id": "3iu1Bz6ogZiu",
    "outputId": "e6b8f2dd-d754-482b-f734-36676e9b173b"
   },
   "outputs": [],
   "source": [
    "print(f\"RecênciaScore: {df['RecênciaScore'].dtype}\")\n",
    "print(f\"FrequênciaScore: {df['FrequênciaScore'].dtype}\")\n",
    "print(f\"MonetárioScore: {df['MonetárioScore'].dtype}\")"
   ]
  },
  {
   "cell_type": "markdown",
   "metadata": {
    "id": "fQ3M6uT5Zu9M"
   },
   "source": [
    "##  <font color=\"#f4a261\">Convertendo RFM scores para tipos numéricos </font>"
   ]
  },
  {
   "cell_type": "markdown",
   "metadata": {
    "id": "VuoTb05ff0aK"
   },
   "source": [
    " No entanto, para continuar utilizando as pontuações, é necessário converter essas variáveis categóricas em números inteiros."
   ]
  },
  {
   "cell_type": "code",
   "execution_count": null,
   "metadata": {
    "colab": {
     "base_uri": "https://localhost:8080/"
    },
    "id": "hpw0tpNFZr8x",
    "outputId": "d66cd1f2-c854-45d8-fa8c-e93ee06f2749"
   },
   "outputs": [],
   "source": [
    "print(f\"RecênciaScore antes da conversão: {df['RecênciaScore'].dtype}\")\n",
    "print(f\"FrequênciaScore antes da conversão: {df['FrequênciaScore'].dtype}\")\n",
    "print(f\"MonetárioScore antes da conversão: {df['MonetárioScore'].dtype}\")\n",
    "print()\n",
    "\n",
    "# Conversão dos scores em inteiros:\n",
    "df['RecênciaScore'] = df['RecênciaScore'].astype(int)\n",
    "df['FrequênciaScore'] = df['FrequênciaScore'].astype(int)\n",
    "df['MonetárioScore'] = df['MonetárioScore'].astype(int)\n",
    "\n",
    "print()\n",
    "print(f\"RecênciaScore depois da conversão:  {df['RecênciaScore'].dtype}\")\n",
    "print(f\"FrequênciaScore depois da conversão:  {df['FrequênciaScore'].dtype}\")\n",
    "print(f\"MonetárioScore depois da conversão:  {df['MonetárioScore'].dtype}\")"
   ]
  },
  {
   "cell_type": "markdown",
   "metadata": {
    "id": "nHfzzDOahlVQ"
   },
   "source": [
    "# <font color=\"#e76f51\">Segmentação do valor do RFM </font>"
   ]
  },
  {
   "cell_type": "markdown",
   "metadata": {
    "id": "ifTCU8I4hrue"
   },
   "source": [
    "Cálculo da pontuação final do RFM  (Recency-Frequency-Monetary) |  (Recência-Frequência-Monetário) combinando as pontuações individuais de recência, frequência e valor monetário para cada cliente.\n",
    "\n",
    "Para calcular a pontuação RFM, foram adicionadas as pontuações obtidas para essas variáveis. Por exemplo, se um cliente tiver uma pontuação de recência de 3, uma pontuação de frequência de 4 e uma pontuação monetária de 5, a sua pontuação RFM será 12."
   ]
  },
  {
   "cell_type": "code",
   "execution_count": null,
   "metadata": {
    "colab": {
     "base_uri": "https://localhost:8080/",
     "height": 443
    },
    "id": "2QXJvY3WhptL",
    "outputId": "a883b14f-c912-42b7-a9d7-8bd8c6e085e7"
   },
   "outputs": [],
   "source": [
    "# Calculando a pontuação final pela combinação das pontuações individuais:\n",
    "df['RFM_Score'] = df['RecênciaScore'] + df['FrequênciaScore'] + df['MonetárioScore']\n",
    "\n",
    "scores_data = {\n",
    "    'ClienteID' : df['ClienteID'],\n",
    "    'RecênciaScore' : df['RecênciaScore'],\n",
    "    'FrequênciaScore' : df['FrequênciaScore'],\n",
    "    'MonetárioScore' : df['MonetárioScore'],\n",
    "    'RFM_Score' : df['RFM_Score'],\n",
    "}\n",
    "\n",
    "scores_df = pd.DataFrame(scores_data)\n",
    "scores_df"
   ]
  },
  {
   "cell_type": "markdown",
   "metadata": {
    "id": "9umM379MiNVw"
   },
   "source": [
    "Criação dos segmentos RFM com base no score RFM calculado anteriormente (RFM_Score).\n",
    "\n",
    "A função pd.qcut() é usada para dividir os scores RFM em intervalos de forma a garantir que cada segmento contenha aproximadamente a mesma quantidade de clientes.\n",
    "\n",
    "\n",
    "> data['RFM_Score'] = coluna dos scores RFM que serão segmentados.\n",
    "\n",
    "\n",
    "> q = número de segmentos.\n",
    "\n",
    "\n",
    "\n",
    "> 'labels=labels_set' = rótulos atribuidos a cada segmento.\n",
    "\n",
    "\n",
    "\n",
    "\n",
    "\n",
    "\n",
    "\n"
   ]
  },
  {
   "cell_type": "code",
   "execution_count": null,
   "metadata": {
    "id": "enZZl0AXjOhL"
   },
   "outputs": [],
   "source": [
    "# Criando os segmentos RFM:\n",
    "labels_set = ['Valor-Baixo', 'Valor-Médio', 'Valor-Alto']\n",
    "df['ValorSegmento'] = pd.qcut(df['RFM_Score'], q=3, labels=labels_set)"
   ]
  },
  {
   "cell_type": "markdown",
   "metadata": {
    "id": "SP2tViflkVlV"
   },
   "source": [
    "\n",
    "\n",
    "   O resultado dessa operação é uma nova coluna chamada 'ValorSegmento' no DataFrame df, que contém os rótulos dos segmentos aos quais cada cliente pertence, com base no seu score RFM."
   ]
  },
  {
   "cell_type": "code",
   "execution_count": null,
   "metadata": {
    "colab": {
     "base_uri": "https://localhost:8080/",
     "height": 495
    },
    "id": "29BZUFSMsu7Z",
    "outputId": "259b1c44-69d0-42c8-a27e-aa58982d5059"
   },
   "outputs": [],
   "source": [
    "df"
   ]
  },
  {
   "cell_type": "markdown",
   "metadata": {
    "id": "zqxOzEpwuFdJ"
   },
   "source": [
    "# Distribuição por segmentos <font color=\"#2a9d8f\">(View)</font>"
   ]
  },
  {
   "cell_type": "code",
   "execution_count": null,
   "metadata": {
    "colab": {
     "base_uri": "https://localhost:8080/",
     "height": 542
    },
    "id": "oEKrceNqt8jz",
    "outputId": "729a538f-cc68-4c70-e364-cd40bb019155"
   },
   "outputs": [],
   "source": [
    "# Distribuição dos segmentos RFM:\n",
    "segment_counts = df['ValorSegmento'].value_counts().reset_index()\n",
    "segment_counts.columns = ['ValorSegmento', 'Contagem']\n",
    "\n",
    "pastel_colors = px.colors.qualitative.Pastel\n",
    "\n",
    "fig_segment_dist = px.bar(segment_counts, x='ValorSegmento', y='Contagem',\n",
    "                          color='ValorSegmento', color_discrete_sequence=pastel_colors,\n",
    "                          title=\"Distribuição dos segmentos RFM:\")\n",
    "\n",
    "fig_segment_dist.update_layout(xaxis_title='RFM Valor Segmento',\n",
    "                              yaxis_title='Contagem',\n",
    "                              showlegend=False)\n",
    "\n",
    "fig_segment_dist.show()"
   ]
  },
  {
   "cell_type": "markdown",
   "metadata": {
    "id": "VQL5or1_0Do3"
   },
   "source": [
    "# Segmentos de clientes RFM\n",
    "\n"
   ]
  },
  {
   "cell_type": "markdown",
   "metadata": {
    "id": "OcnR6XqI0Oq0"
   },
   "source": [
    " Os segmentos de clientes RFM representam diferentes grupos de clientes com base em suas pontuações RFM. O que foi feito anteriormente foi a criação de segmentos de \"valor\" RFM, que categorizam os clientes em grupos de \"baixo valor\", \"valor médio\" e \"alto valor\" com base em suas pontuações.\n",
    "\n",
    "Agora, serão criados segmentos de \"clientes\" RFM. Isso significa dividir os clientes em grupos com base em suas pontuações RFM. Esses grupos ajudarão a entender melhor o comportamento dos clientes em termos de quando compraram (recência), com que frequência compram (frequência) e quanto gastam (monetário). Cada grupo representará diferentes tipos de clientes, permitindo uma análise mais granular das características RFM globais do cliente. Isso é útil para entender o valor relativo dos clientes com base nesses três aspectos-chave."
   ]
  },
  {
   "cell_type": "code",
   "execution_count": null,
   "metadata": {
    "id": "3Yvq-cBZ041a"
   },
   "outputs": [],
   "source": [
    "# Nova coluna para os segmentos RFM do cliente:\n",
    "df['RFM_Segmento_Cliente'] = ''"
   ]
  },
  {
   "cell_type": "markdown",
   "metadata": {
    "id": "wCwVVKIa1a7f"
   },
   "source": [
    " Esta coluna será usada para armazenar os segmentos de clientes com base na pontuação RFM."
   ]
  },
  {
   "cell_type": "code",
   "execution_count": null,
   "metadata": {
    "colab": {
     "base_uri": "https://localhost:8080/",
     "height": 423
    },
    "id": "3jV9C9fU1cpK",
    "outputId": "1b227d79-83e2-44f5-843f-79c0551e31df"
   },
   "outputs": [],
   "source": [
    "df.loc[df['RFM_Score'] >= 9, 'RFM_Segmento_Cliente'] = 'Campeões'\n",
    "df.loc[(df['RFM_Score'] >= 6) & (df['RFM_Score'] < 9), 'RFM_Segmento_Cliente'] = 'Potencial de fidelidade'\n",
    "df.loc[(df['RFM_Score'] >= 5) & (df['RFM_Score'] < 6), 'RFM_Segmento_Cliente'] = 'Clientes em risco'\n",
    "df.loc[(df['RFM_Score'] >= 4) & (df['RFM_Score'] < 5), 'RFM_Segmento_Cliente'] = \"Não pode perder\"\n",
    "df.loc[(df['RFM_Score'] >= 3) & (df['RFM_Score'] < 4), 'RFM_Segmento_Cliente'] = \"Perdido\"\n",
    "\n",
    "df[['ClienteID', 'RFM_Segmento_Cliente']]"
   ]
  },
  {
   "cell_type": "markdown",
   "metadata": {
    "id": "0t_IR9yB2t3F"
   },
   "source": [
    "# Análise RFM <font color=\"#2a9d8f\">(View)</font>\n"
   ]
  },
  {
   "cell_type": "markdown",
   "metadata": {
    "id": "DAXlvP6q2y2E"
   },
   "source": [
    "\n",
    "\n",
    "> ## Análise da distribuição de clientes em diferentes segmentos de clientes RFM dentro de cada segmento de valor.\n",
    "\n"
   ]
  },
  {
   "cell_type": "markdown",
   "metadata": {
    "id": "EaLDj9TY8QWD"
   },
   "source": [
    "Gráfico Treemap para visualizar a distribuição de segmentos de cliente com base nos valores de 'ValorSegmento' e 'RFM_Segmento_Cliente', destacando as contagens de ocorrências e as cores correspondentes."
   ]
  },
  {
   "cell_type": "code",
   "execution_count": null,
   "metadata": {
    "colab": {
     "base_uri": "https://localhost:8080/",
     "height": 542
    },
    "id": "IorxAQox2_Ha",
    "outputId": "d569bf7f-7842-4dfc-ec97-7585e89e8948"
   },
   "outputs": [],
   "source": [
    "# Agrupando os dados e contando o número de ocorrências para cada combinação de segmentos:\n",
    "segment_product_counts = df.groupby(['ValorSegmento', 'RFM_Segmento_Cliente']).size().reset_index(name='Contagem')\n",
    "\n",
    "# Ordenando os dados pela contagem em ordem decrescente:\n",
    "segment_product_counts = segment_product_counts.sort_values('Contagem', ascending=False)\n",
    "\n",
    "fig_treemap_segment_product = px.treemap(segment_product_counts,\n",
    "                                         path=['ValorSegmento', 'RFM_Segmento_Cliente'],\n",
    "                                         values='Contagem',\n",
    "                                         color='ValorSegmento', color_discrete_sequence=px.colors.qualitative.Pastel,\n",
    "                                         title='RFM_Segmento_Cliente por Valor')\n",
    "fig_treemap_segment_product.show()"
   ]
  },
  {
   "cell_type": "markdown",
   "metadata": {
    "id": "6UOwmH138oHO"
   },
   "source": [
    "\n",
    "\n",
    "> ## Análise da <font color=\"#a2d2ff\">distribuição dos valores RFM </font> no segmento dos Campeões.\n",
    "\n"
   ]
  },
  {
   "cell_type": "markdown",
   "metadata": {
    "id": "48U8W9rI-riD"
   },
   "source": [
    "Permite visualizar como as variáveis estão distribuídas entre os clientes mais valiosos."
   ]
  },
  {
   "cell_type": "code",
   "execution_count": null,
   "metadata": {
    "id": "WMWOnb2K2V94"
   },
   "outputs": [],
   "source": [
    "# Filtrando para incluir apenas os clientes no segmento \"Campeões\":\n",
    "champions_segment = df[df['RFM_Segmento_Cliente'] == 'Campeões']\n",
    "\n",
    "# Objeto go.Figure() do Plotly:\n",
    "fig = go.Figure()"
   ]
  },
  {
   "cell_type": "markdown",
   "metadata": {
    "id": "__oakvJD-BBN"
   },
   "source": [
    " Três box plots estão sendo adicionados ao objeto fig. Cada go.Box() cria um box plot para uma variável específica.\n",
    "\n",
    "\n",
    "\n",
    "> Para cada Box, o argumento y é usado para fornecer os valores que serão plotados no eixo vertical do gráfico.\n",
    "\n",
    "\n",
    "\n",
    "> O argumento 'name' define o nome do gráfico de caixa, que aparecerá na legenda do gráfico.\n",
    "\n",
    "\n",
    "\n"
   ]
  },
  {
   "cell_type": "code",
   "execution_count": null,
   "metadata": {
    "colab": {
     "base_uri": "https://localhost:8080/",
     "height": 542
    },
    "id": "AsMxGWnM9szo",
    "outputId": "0d8cd47e-267b-4e96-f888-46262b228f97"
   },
   "outputs": [],
   "source": [
    "fig.add_trace(go.Box(y=champions_segment['RecênciaScore'], name='Recência'))\n",
    "fig.add_trace(go.Box(y=champions_segment['FrequênciaScore'], name='Frequência'))\n",
    "fig.add_trace(go.Box(y=champions_segment['MonetárioScore'], name='Monetário'))\n",
    "\n",
    "\n",
    "fig.update_layout(title='Distribuição dos valores RFM dentro do segmento de clientes \"Champions\"',\n",
    "                  yaxis_title='Valores RFM',\n",
    "                  showlegend=True)\n",
    "\n",
    "fig.show()"
   ]
  },
  {
   "cell_type": "markdown",
   "metadata": {
    "id": "h9wyiApWACDb"
   },
   "source": [
    "\n",
    "\n",
    "> ## Análise da  <font color=\"#a2d2ff\">correlação das pontuações  </font> de recência, frequência e monetário no segmento dos campeões.\n",
    "\n"
   ]
  },
  {
   "cell_type": "code",
   "execution_count": null,
   "metadata": {
    "colab": {
     "base_uri": "https://localhost:8080/",
     "height": 542
    },
    "id": "QtnQYzVqAFlr",
    "outputId": "b78ba369-9f31-4012-8b56-0dcf5336b713"
   },
   "outputs": [],
   "source": [
    "# Calculando a matriz de correlação:\n",
    "correlation_matrix = champions_segment[['RecênciaScore', 'FrequênciaScore', 'MonetárioScore']].corr()\n",
    "\n",
    "fig_heatmap = go.Figure(data=go.Heatmap(\n",
    "                   z=correlation_matrix.values,\n",
    "                   x=correlation_matrix.columns,\n",
    "                   y=correlation_matrix.columns,\n",
    "                   colorscale='RdBu',\n",
    "                   colorbar=dict(title='Correlação')))\n",
    "\n",
    "fig_heatmap.update_layout(title='Matriz de Correlação dos valores RFM dentro do segmento dos campeões.')\n",
    "\n",
    "fig_heatmap.show()"
   ]
  },
  {
   "cell_type": "markdown",
   "metadata": {
    "id": "HteEXefCCh3w"
   },
   "source": [
    "\n",
    "\n",
    " > ## Número de clientes em todos os segmentos\n",
    "\n"
   ]
  },
  {
   "cell_type": "markdown",
   "metadata": {
    "id": "Mg4woijuC5Xw"
   },
   "source": [
    "Comparação da contagem de segmentos de clientes com base nas classificações RFM."
   ]
  },
  {
   "cell_type": "code",
   "execution_count": null,
   "metadata": {
    "colab": {
     "base_uri": "https://localhost:8080/",
     "height": 542
    },
    "id": "OpqKwN2FCp0s",
    "outputId": "2282a54f-0a35-48e1-df21-ef5ad06b641d"
   },
   "outputs": [],
   "source": [
    "import plotly.colors\n",
    "\n",
    "pastel_colors = plotly.colors.qualitative.Pastel\n",
    "\n",
    "# Contando quantos clientes existem em cada segmento de clientes:\n",
    "# [Campeões, Potencial de fidelidade, Clientes em risco, Não pode perder, Perdido]\n",
    "segment_counts = df['RFM_Segmento_Cliente'].value_counts()\n",
    "\n",
    "fig = go.Figure(data=[go.Bar(x=segment_counts.index, y=segment_counts.values,\n",
    "                            marker=dict(color=pastel_colors))])\n",
    "\n",
    "\n",
    "champions_color = 'rgb(158, 202, 225)'\n",
    "fig.update_traces(marker_color=[champions_color if segment == 'Campeões' else pastel_colors[i]\n",
    "                                for i, segment in enumerate(segment_counts.index)],\n",
    "                  marker_line_color='rgb(8, 48, 107)',\n",
    "                  marker_line_width=1.5, opacity=0.6)\n",
    "\n",
    "fig.update_layout(title='Comparação dos Segmentos RFM',\n",
    "                  xaxis_title='Segmentos RFM',\n",
    "                  yaxis_title='Número de Clientes',\n",
    "                  showlegend=False)\n",
    "\n",
    "fig.show()\n"
   ]
  },
  {
   "cell_type": "markdown",
   "metadata": {
    "id": "OYz2ILmTESNA"
   },
   "source": [
    "\n",
    "\n",
    "> ## Comparação dos scores de Recência, Frequência e Valor Monetário (RFM) entre diferentes segmentos de clientes\n",
    "\n",
    "\n"
   ]
  },
  {
   "cell_type": "code",
   "execution_count": null,
   "metadata": {
    "colab": {
     "base_uri": "https://localhost:8080/",
     "height": 631
    },
    "id": "2FG6ant3Ec7D",
    "outputId": "3824cadf-dde0-4337-fead-d69accaf1e64"
   },
   "outputs": [],
   "source": [
    "# Calculando as médias de pontuação (score) de Recência, Frequência e Valor Monetário para cada segmento de clientes:\n",
    "segment_scores = df.groupby('RFM_Segmento_Cliente')['RecênciaScore', 'FrequênciaScore', 'MonetárioScore'].mean().reset_index()\n",
    "\n",
    "fig = go.Figure()\n",
    "\n",
    "fig.add_trace(go.Bar(\n",
    "    x=segment_scores['RFM_Segmento_Cliente'],\n",
    "    y=segment_scores['RecênciaScore'],\n",
    "    name='Recência Score',\n",
    "    marker_color='rgb(158,202,225)'\n",
    "))\n",
    "\n",
    "fig.add_trace(go.Bar(\n",
    "    x=segment_scores['RFM_Segmento_Cliente'],\n",
    "    y=segment_scores['FrequênciaScore'],\n",
    "    name='Frequência Score',\n",
    "    marker_color='rgb(94,158,217)'\n",
    "))\n",
    "\n",
    "fig.add_trace(go.Bar(\n",
    "    x=segment_scores['RFM_Segmento_Cliente'],\n",
    "    y=segment_scores['MonetárioScore'],\n",
    "    name='Monetário Score',\n",
    "    marker_color='rgb(32,102,148)'\n",
    "))\n",
    "\n",
    "fig.update_layout(\n",
    "    title='Comparação dos valores RFM dos segmentos de cliente e as variáveis RFM.',\n",
    "    xaxis_title='Segmentos de Cliente RFM',\n",
    "    yaxis_title='Pontuação da Variável',\n",
    "    barmode='group',\n",
    "    showlegend=True\n",
    ")\n",
    "\n",
    "fig.show()\n"
   ]
  }
 ],
 "metadata": {
  "colab": {
   "provenance": []
  },
  "kernelspec": {
   "display_name": "Python 3 (ipykernel)",
   "language": "python",
   "name": "python3"
  },
  "language_info": {
   "codemirror_mode": {
    "name": "ipython",
    "version": 3
   },
   "file_extension": ".py",
   "mimetype": "text/x-python",
   "name": "python",
   "nbconvert_exporter": "python",
   "pygments_lexer": "ipython3",
   "version": "3.11.4"
  }
 },
 "nbformat": 4,
 "nbformat_minor": 1
}
